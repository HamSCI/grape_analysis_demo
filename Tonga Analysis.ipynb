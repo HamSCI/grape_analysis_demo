{
 "cells": [
  {
   "cell_type": "markdown",
   "id": "c6370dee-616a-46e6-b54c-cde453e3a6e4",
   "metadata": {
    "tags": []
   },
   "source": [
    "# Tonga Analysis"
   ]
  },
  {
   "cell_type": "code",
   "execution_count": 1,
   "id": "bba7eb2a-ce8d-4dd5-8905-1274543a0134",
   "metadata": {},
   "outputs": [],
   "source": [
    "import datetime\n",
    "\n",
    "import numpy as np\n",
    "import pandas as pd\n",
    "\n",
    "from scipy.interpolate import interp1d\n",
    "from scipy.signal import filtfilt, butter\n",
    "from scipy import signal\n",
    "\n",
    "import matplotlib as mpl\n",
    "from matplotlib import pyplot as plt\n",
    "\n",
    "%matplotlib inline"
   ]
  },
  {
   "cell_type": "code",
   "execution_count": 2,
   "id": "60635c9c-aab8-49cc-999f-463355184758",
   "metadata": {},
   "outputs": [],
   "source": [
    "# Matplotlib settings to make the plots look a little nicer.\n",
    "plt.rcParams['font.size']      = 18\n",
    "plt.rcParams['font.weight']    = 'bold'\n",
    "plt.rcParams['axes.grid']      = True\n",
    "plt.rcParams['axes.xmargin']   = 0\n",
    "plt.rcParams['grid.linestyle'] = ':'\n",
    "plt.rcParams['figure.figsize'] = (10,6)\n",
    "\n",
    "# Control maximum number of rows Pandas can show.\n",
    "pd.set_option('display.max_rows', 100)"
   ]
  },
  {
   "cell_type": "markdown",
   "id": "25262f57-a151-439f-aecb-57463566adf1",
   "metadata": {},
   "source": [
    "# Load Data File and Plot Raw Data"
   ]
  },
  {
   "cell_type": "code",
   "execution_count": 3,
   "id": "cd1cb503-12b6-4903-bbe5-92ed78fbeb25",
   "metadata": {},
   "outputs": [],
   "source": [
    "# Load file into dataframe, ignore comment line,s and parse dates\n",
    "fname = '2021-04-07T000000Z_N0000007_G1_EN91fh_FRQ_WWV10.csv.bz2'\n",
    "cfreq = 10e6\n",
    "df    = pd.read_csv(fname, comment = '#', parse_dates=[0])\n",
    "\n",
    "# Remove the 10 MHz offset from the frequency column.\n",
    "df['Freq'] = df['Freq']-cfreq"
   ]
  }
 ],
 "metadata": {
  "kernelspec": {
   "display_name": "Python 3 (ipykernel)",
   "language": "python",
   "name": "python3"
  },
  "language_info": {
   "codemirror_mode": {
    "name": "ipython",
    "version": 3
   },
   "file_extension": ".py",
   "mimetype": "text/x-python",
   "name": "python",
   "nbconvert_exporter": "python",
   "pygments_lexer": "ipython3",
   "version": "3.7.7"
  }
 },
 "nbformat": 4,
 "nbformat_minor": 5
}
